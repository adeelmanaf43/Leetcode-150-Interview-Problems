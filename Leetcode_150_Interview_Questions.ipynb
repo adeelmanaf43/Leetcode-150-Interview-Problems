{
  "nbformat": 4,
  "nbformat_minor": 0,
  "metadata": {
    "colab": {
      "provenance": []
    },
    "kernelspec": {
      "name": "python3",
      "display_name": "Python 3"
    },
    "language_info": {
      "name": "python"
    }
  },
  "cells": [
    {
      "cell_type": "markdown",
      "source": [
        "### 1. Merge Sorted Array"
      ],
      "metadata": {
        "id": "Z-o3hT0VlFjM"
      }
    },
    {
      "cell_type": "code",
      "source": [
        "def merge(nums1, nums2, m, n):\n",
        "    i = m - 1\n",
        "    j = n - 1\n",
        "    index = m + n - 1\n",
        "    while i >= 0 and j >= 0:\n",
        "        if nums1[i] < nums2[j]:\n",
        "            nums1[index] = nums2[j]\n",
        "            j -= 1\n",
        "        else:\n",
        "            nums1[index] = nums1[i]\n",
        "            i -= 1\n",
        "        index -= 1\n",
        "    while i >= 0:\n",
        "        nums1[index] = nums1[i]\n",
        "        i-=1\n",
        "        index -= 1\n",
        "    while j >= 0:\n",
        "        nums1[index] = nums2[j]\n",
        "        j-=1\n",
        "        index -=1\n",
        "    print(nums1)\n"
      ],
      "metadata": {
        "id": "uCqRgtJlgUcP"
      },
      "execution_count": null,
      "outputs": []
    },
    {
      "cell_type": "markdown",
      "source": [
        "### 2. Remove Element"
      ],
      "metadata": {
        "id": "tljQeiHC52DP"
      }
    },
    {
      "cell_type": "code",
      "source": [
        "def removeElement(nums, val):\n",
        "    current_index = 0\n",
        "    inserted_index = 0\n",
        "    count = 0\n",
        "    while current_index < len(nums):\n",
        "        if nums[current_index] != val:\n",
        "            nums[inserted_index] = nums[current_index]\n",
        "            inserted_index += 1\n",
        "            count += 1\n",
        "        current_index += 1\n",
        "    print(nums, count)\n",
        "    return count\n",
        "\n",
        "\n",
        "#[0,1,2,2,3,0,4,2], val = 2\n",
        "removeElement([0,1,2,2,3,0,4,2], val = 2)"
      ],
      "metadata": {
        "colab": {
          "base_uri": "https://localhost:8080/"
        },
        "id": "n3kxKNE7jjsi",
        "outputId": "becb3c25-f0ba-446b-fc93-704c697ab2bf"
      },
      "execution_count": 8,
      "outputs": [
        {
          "output_type": "stream",
          "name": "stdout",
          "text": [
            "Inserted_index: 0 Current index: 0 [0, 1, 2, 2, 3, 0, 4, 2]\n",
            "Inserted_index: 1 Current index: 1 [0, 1, 2, 2, 3, 0, 4, 2]\n",
            "Inserted_index: 2 Current index: 2 [0, 1, 2, 2, 3, 0, 4, 2]\n",
            "Inserted_index: 2 Current index: 3 [0, 1, 2, 2, 3, 0, 4, 2]\n",
            "Inserted_index: 2 Current index: 4 [0, 1, 2, 2, 3, 0, 4, 2]\n",
            "Inserted_index: 3 Current index: 5 [0, 1, 3, 2, 3, 0, 4, 2]\n",
            "Inserted_index: 4 Current index: 6 [0, 1, 3, 0, 3, 0, 4, 2]\n",
            "Inserted_index: 5 Current index: 7 [0, 1, 3, 0, 4, 0, 4, 2]\n",
            "[0, 1, 3, 0, 4, 0, 4, 2] 5\n"
          ]
        }
      ]
    },
    {
      "cell_type": "markdown",
      "source": [
        "### 3. Remove Duplicates From Sorted Array"
      ],
      "metadata": {
        "id": "pasauaqx7juq"
      }
    },
    {
      "cell_type": "code",
      "source": [
        "def removeDuplicates(nums):\n",
        "    curr_index = 1\n",
        "    inserted_index = 0\n",
        "    count = 1\n",
        "    while curr_index < len(nums):\n",
        "        if nums[inserted_index] != nums[curr_index]:\n",
        "            inserted_index += 1\n",
        "            count += 1\n",
        "            nums[inserted_index] = nums[curr_index]\n",
        "        curr_index +=1\n",
        "    print(nums)\n",
        "    print(count)\n",
        "removeDuplicates([0,0,1,1,1,2,2,3,3,4])"
      ],
      "metadata": {
        "colab": {
          "base_uri": "https://localhost:8080/"
        },
        "id": "JVe6tykJzxDH",
        "outputId": "6b2ddf44-68b2-4de6-9591-87224004c41d"
      },
      "execution_count": 9,
      "outputs": [
        {
          "output_type": "stream",
          "name": "stdout",
          "text": [
            "[0, 1, 2, 3, 4, 2, 2, 3, 3, 4]\n",
            "5\n"
          ]
        }
      ]
    },
    {
      "cell_type": "markdown",
      "source": [
        "### 4. Remove Duplicates II (Each element occurs at most twice)"
      ],
      "metadata": {
        "id": "_Vbpqrg8-Q9A"
      }
    },
    {
      "cell_type": "code",
      "source": [
        "def removeDuplicates2(nums):\n",
        "    slow = 2\n",
        "    fast = 2\n",
        "    while fast < len(nums):\n",
        "        if nums[fast] != nums[slow - 2]:\n",
        "            nums[slow] = nums[fast]\n",
        "            slow += 1\n",
        "        fast +=1\n",
        "    print(nums)\n",
        "    return slow\n",
        "removeDuplicates2([1,1,1,2,2,3])"
      ],
      "metadata": {
        "colab": {
          "base_uri": "https://localhost:8080/"
        },
        "id": "P6zq1ypmzw2A",
        "outputId": "eafde24f-f62e-4a77-b9ef-34aa6cdaa0a2"
      },
      "execution_count": 12,
      "outputs": [
        {
          "output_type": "stream",
          "name": "stdout",
          "text": [
            "[1, 1, 2, 2, 3, 3]\n"
          ]
        },
        {
          "output_type": "execute_result",
          "data": {
            "text/plain": [
              "5"
            ]
          },
          "metadata": {},
          "execution_count": 12
        }
      ]
    },
    {
      "cell_type": "markdown",
      "source": [
        "### 5. Majority Element"
      ],
      "metadata": {
        "id": "Npfrd4s8E2iM"
      }
    },
    {
      "cell_type": "code",
      "source": [
        "def majorityElement(nums):\n",
        "    dic = {}\n",
        "    threshold = len(nums) // 2\n",
        "    for element in nums:\n",
        "        if element in dic:\n",
        "            dic[element] += 1\n",
        "            if dic[element] > threshold:\n",
        "                return element\n",
        "        else:\n",
        "            dic[element] = 1\n",
        "majorityElement([2,2,1,1,1,2,2])"
      ],
      "metadata": {
        "colab": {
          "base_uri": "https://localhost:8080/"
        },
        "id": "5DUvTH6JzwrR",
        "outputId": "497b3e66-f60e-457d-e442-2d44a6c37748"
      },
      "execution_count": 14,
      "outputs": [
        {
          "output_type": "execute_result",
          "data": {
            "text/plain": [
              "2"
            ]
          },
          "metadata": {},
          "execution_count": 14
        }
      ]
    },
    {
      "cell_type": "markdown",
      "source": [
        "### 6. Rotate Array"
      ],
      "metadata": {
        "id": "VNRbaJdqH1Kr"
      }
    },
    {
      "cell_type": "code",
      "source": [
        "def rotate_array(nums, k):\n",
        "    left = 0\n",
        "    right = len(nums) - 1\n",
        "    while left < right:\n",
        "        nums[left], nums[right] = nums[right], nums[left]\n",
        "        left +=1\n",
        "        right -=1\n",
        "    left = 0\n",
        "    right = k-1\n",
        "    while left < right:\n",
        "        nums[left], nums[right] = nums[right], nums[left]\n",
        "        left += 1\n",
        "        right -=1\n",
        "    left = k\n",
        "    right = len(nums) - 1\n",
        "    while left < right:\n",
        "        nums[left], nums[right] = nums[right], nums[left]\n",
        "        left +=1\n",
        "        right -=1\n",
        "    print(nums)\n",
        "rotate_array([1,2,3,4,5,6,7],3)"
      ],
      "metadata": {
        "colab": {
          "base_uri": "https://localhost:8080/"
        },
        "id": "7SpF7QgFzwf8",
        "outputId": "f3b53011-d321-4e5c-a5b7-780eb1131c0b"
      },
      "execution_count": 16,
      "outputs": [
        {
          "output_type": "stream",
          "name": "stdout",
          "text": [
            "[5, 6, 7, 1, 2, 3, 4]\n"
          ]
        }
      ]
    },
    {
      "cell_type": "markdown",
      "source": [
        "### 7. Length of Last Word in String"
      ],
      "metadata": {
        "id": "yniJoerkKqeY"
      }
    },
    {
      "cell_type": "code",
      "source": [
        "def lengthOfLastWord(s):\n",
        "    s = s.strip()\n",
        "    if not \" \" in s:\n",
        "        return len(s)\n",
        "    left = len(s) - 1\n",
        "    right = len(s) - 1\n",
        "    while s[left] != \" \":\n",
        "        left -= 1\n",
        "    print(right- left)\n",
        "s = \"luffy is still joyboy\"\n",
        "lengthOfLastWord(s)"
      ],
      "metadata": {
        "colab": {
          "base_uri": "https://localhost:8080/"
        },
        "id": "foWbUbCqzwUa",
        "outputId": "b16f59ea-5454-4e43-8874-9b2ed6628c55"
      },
      "execution_count": 21,
      "outputs": [
        {
          "output_type": "stream",
          "name": "stdout",
          "text": [
            "6\n"
          ]
        }
      ]
    },
    {
      "cell_type": "markdown",
      "source": [
        "### 8. Reverse words in a String"
      ],
      "metadata": {
        "id": "ReVWK8h5MNaS"
      }
    },
    {
      "cell_type": "code",
      "source": [
        "s = \"a good   example\"\n",
        "def reverseWords(s):\n",
        "    l = []\n",
        "    left = len(s) - 1\n",
        "    right = len(s)\n",
        "    while left >= 0:\n",
        "        if s[left].isalnum():\n",
        "            left -=1\n",
        "        elif s[left] == \" \":\n",
        "            if s[left + 1: right].isalnum():\n",
        "                l.append(s[left+1:right])\n",
        "            right = left\n",
        "            left -=1\n",
        "    l.append(s[left+1:right])\n",
        "    return \" \".join(l)\n",
        "reverseWords(\"a good   example\")\n"
      ],
      "metadata": {
        "colab": {
          "base_uri": "https://localhost:8080/",
          "height": 35
        },
        "id": "VFT94eGmzwIv",
        "outputId": "9507aae6-d5f9-453d-c8cf-49c9d0c829c0"
      },
      "execution_count": 23,
      "outputs": [
        {
          "output_type": "execute_result",
          "data": {
            "text/plain": [
              "'example good a'"
            ],
            "application/vnd.google.colaboratory.intrinsic+json": {
              "type": "string"
            }
          },
          "metadata": {},
          "execution_count": 23
        }
      ]
    },
    {
      "cell_type": "markdown",
      "source": [
        "### 9. Find the Index of the First Occurence in a String"
      ],
      "metadata": {
        "id": "1U5puen8Oeg5"
      }
    },
    {
      "cell_type": "code",
      "source": [
        "def strStr(haystack, needle):\n",
        "    left = 0\n",
        "    n = len(needle)\n",
        "    while left < len(haystack):\n",
        "        if haystack[left] == needle[0]:\n",
        "            if haystack[left: left + n ] == needle:\n",
        "                return left\n",
        "        left += 1\n",
        "    return -1\n",
        "strStr(\"leetcode\", \"code\")"
      ],
      "metadata": {
        "id": "0MZsHUNE77QL",
        "colab": {
          "base_uri": "https://localhost:8080/"
        },
        "outputId": "25ac7a27-6cc0-4f3d-ba53-62ac945cf5a3"
      },
      "execution_count": 27,
      "outputs": [
        {
          "output_type": "execute_result",
          "data": {
            "text/plain": [
              "4"
            ]
          },
          "metadata": {},
          "execution_count": 27
        }
      ]
    },
    {
      "cell_type": "markdown",
      "source": [
        "### 10. Valid Palindrom"
      ],
      "metadata": {
        "id": "O2QaalSJP5H0"
      }
    },
    {
      "cell_type": "code",
      "source": [
        "def isPalindorme(s):\n",
        "    if len(s) <= 1:\n",
        "        return True\n",
        "    s = s.lower()\n",
        "    left = 0\n",
        "    right = len(s) - 1\n",
        "    while left < right:\n",
        "        if not s[left].isalnum():\n",
        "            left += 1\n",
        "        elif not s[right].isalnum():\n",
        "            right -= 1\n",
        "        elif s[left] != s[right]:\n",
        "            return False\n",
        "        else:\n",
        "            left += 1\n",
        "            right -=1\n",
        "    return True\n",
        "isPalindorme(\"A man, a plan, a canal: Panama\")"
      ],
      "metadata": {
        "colab": {
          "base_uri": "https://localhost:8080/"
        },
        "id": "gyvcJ2e0O7_H",
        "outputId": "9a626735-7087-4020-aecb-5e539a2eada4"
      },
      "execution_count": 30,
      "outputs": [
        {
          "output_type": "execute_result",
          "data": {
            "text/plain": [
              "True"
            ]
          },
          "metadata": {},
          "execution_count": 30
        }
      ]
    },
    {
      "cell_type": "code",
      "source": [],
      "metadata": {
        "id": "wK90XP8oQbs0"
      },
      "execution_count": null,
      "outputs": []
    }
  ]
}